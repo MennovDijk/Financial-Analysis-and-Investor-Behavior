{
 "cells": [
  {
   "cell_type": "code",
   "execution_count": null,
   "metadata": {},
   "outputs": [],
   "source": [
    "import pandas as pd\n",
    "from arch import arch_model\n",
    "import numpy as np"
   ]
  },
  {
   "cell_type": "code",
   "execution_count": null,
   "metadata": {},
   "outputs": [],
   "source": [
    "df = pd.read_excel(\"returns.xlsx\")\n",
    "df = df.iloc[:,:-1]\n",
    "df = df.iloc[:-3]"
   ]
  },
  {
   "cell_type": "code",
   "execution_count": null,
   "metadata": {},
   "outputs": [],
   "source": [
    "all_GARCH = {}\n",
    "\n",
    "for col in df.columns:\n",
    "    df_c = df[col]\n",
    "    model = arch_model(df_c, vol = \"GARCH\")\n",
    "    fit = model.fit()\n",
    "\n",
    "    omega = fit.params[1]\n",
    "    alpha = fit.params[2]\n",
    "    beta = fit.params[3]\n",
    "    \n",
    "    variance = omega/(1-alpha-beta)\n",
    "    all_GARCH[col] = np.sqrt(variance)*np.sqrt(252)\n"
   ]
  },
  {
   "cell_type": "code",
   "execution_count": null,
   "metadata": {},
   "outputs": [],
   "source": [
    "all_GARCH_forecast = {}\n",
    "\n",
    "for col in df.columns:\n",
    "    df_c = df[col]\n",
    "    model = arch_model(df_c, vol = \"GARCH\")\n",
    "    fit = model.fit()\n",
    "    forecast = fit.forecast(horizon = 1)\n",
    "    all_GARCH_forecast[col] = np.sqrt(forecast.variance.iloc[-1].values)*10"
   ]
  },
  {
   "cell_type": "code",
   "execution_count": null,
   "metadata": {},
   "outputs": [],
   "source": [
    "all_GARCH "
   ]
  },
  {
   "cell_type": "code",
   "execution_count": null,
   "metadata": {},
   "outputs": [],
   "source": [
    "all_GARCH_forecast"
   ]
  }
 ],
 "metadata": {
  "kernelspec": {
   "display_name": "Python 3",
   "language": "python",
   "name": "python3"
  },
  "language_info": {
   "codemirror_mode": {
    "name": "ipython",
    "version": 3
   },
   "file_extension": ".py",
   "mimetype": "text/x-python",
   "name": "python",
   "nbconvert_exporter": "python",
   "pygments_lexer": "ipython3",
   "version": "3.5.0"
  }
 },
 "nbformat": 4,
 "nbformat_minor": 2
}
