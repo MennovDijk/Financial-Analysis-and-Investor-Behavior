{
 "cells": [
  {
   "cell_type": "code",
   "execution_count": null,
   "metadata": {},
   "outputs": [],
   "source": [
    "from keras.optimizers import SGD, RMSprop, Adam\n",
    "from keras.models import Sequential\n",
    "from keras.layers import Dense, Activation, Dropout\n",
    "from keras.utils import plot_model\n",
    "from sklearn.metrics import mean_squared_error, mean_absolute_error\n",
    "from keras import backend as K\n",
    "import pandas as pd\n",
    "import numpy as np\n",
    "from sklearn.linear_model import LinearRegression\n",
    "import statsmodels.api as sm\n",
    "import matplotlib.pyplot as plt\n",
    "import os\n",
    "os.environ[\"PATH\"] += os.pathsep + 'C:/Program Files (x86)/Graphviz2.38/bin/'"
   ]
  },
  {
   "cell_type": "code",
   "execution_count": null,
   "metadata": {},
   "outputs": [],
   "source": [
    "def root_mean_squared_error(y_true, y_pred):\n",
    "        return K.sqrt(K.mean(K.square(y_pred - y_true), axis=-1)) "
   ]
  },
  {
   "cell_type": "code",
   "execution_count": null,
   "metadata": {},
   "outputs": [],
   "source": [
    "df = pd.read_excel(\"returns.xlsx\")\n",
    "df = df.iloc[:-3]\n",
    "df_copy = df.copy()\n",
    "\n",
    "for c in df.columns:\n",
    "    df[\"volatility_\"+c] = (df[c].rolling(20).std())*np.sqrt(52)"
   ]
  },
  {
   "cell_type": "code",
   "execution_count": null,
   "metadata": {},
   "outputs": [],
   "source": [
    "df_train = df[20:167]\n",
    "df_test = df[197:]"
   ]
  },
  {
   "cell_type": "code",
   "execution_count": null,
   "metadata": {},
   "outputs": [],
   "source": [
    "def fit_model(train_X, train_y, test_X, test_y):\n",
    "    model = Sequential()\n",
    "\n",
    "    model.add(Dense(20)) \n",
    "    model.add(Activation(\"relu\"))\n",
    "\n",
    "    model.add(Dense(40)) \n",
    "    model.add(Activation(\"relu\"))\n",
    "\n",
    "    model.add(Dense(10))\n",
    "    model.add(Dense(1))\n",
    "\n",
    "    model.add(Activation('linear'))\n",
    "\n",
    "    # Compile and Run\n",
    "    model.compile(loss= root_mean_squared_error, optimizer = Adam())\n",
    "    model.fit(train_X, train_y, epochs = 250, batch_size = 1, verbose=1)\n",
    "    \n",
    "    yhat = model.predict(test_X)\n",
    "    fp = model.predict(np.array([test_X[-1],])) # <-- finally\n",
    "    \n",
    "    return yhat, test_y, fp"
   ]
  },
  {
   "cell_type": "code",
   "execution_count": null,
   "metadata": {},
   "outputs": [],
   "source": [
    "results = {}\n",
    "final_predictions = {}\n",
    "for c in df_copy.columns:\n",
    "    print(c)\n",
    "    \n",
    "    train_y = df_train[\"volatility_\"+c].shift(1)[1:].values.astype(\"float32\")\n",
    "    test_y =  df_test[\"volatility_\"+c].shift(1)[1:].values.astype(\"float32\")\n",
    "\n",
    "\n",
    "    train_X = df_train.iloc[:,19:].shift(-1)[:-1]\n",
    "    train_X[c] = df_train[c].shift(-1)[:-1]\n",
    "\n",
    "    test_X =  df_test.iloc[:,19:].shift(-1)[:-1]\n",
    "    test_X[c] = df_test[c].shift(-1)[:-1]\n",
    "\n",
    "    train_X = train_X.values.astype(\"float32\")\n",
    "    test_X = test_X.values.astype(\"float32\")\n",
    "\n",
    "    yhat, test_y, fp = fit_model(train_X, train_y, test_X, test_y)\n",
    "    \n",
    "    results[c] = [yhat,test_y]\n",
    "    final_predictions[c] = fp # historical average or one period oos? currently the latter\n",
    "    \n",
    "    print(\"=\"*100)\n",
    "    "
   ]
  },
  {
   "cell_type": "code",
   "execution_count": null,
   "metadata": {},
   "outputs": [],
   "source": [
    "final_predictions"
   ]
  },
  {
   "cell_type": "code",
   "execution_count": null,
   "metadata": {},
   "outputs": [],
   "source": [
    "# yhat = model.predict(test_X)\n",
    "# print(mean_absolute_error(yhat, test_y))"
   ]
  },
  {
   "cell_type": "code",
   "execution_count": null,
   "metadata": {},
   "outputs": [],
   "source": [
    "# print(test_y)"
   ]
  },
  {
   "cell_type": "code",
   "execution_count": null,
   "metadata": {},
   "outputs": [],
   "source": [
    "font = {'fontname':'Times New Roman'}\n",
    "import matplotlib.font_manager as font_manager\n",
    "font1 = font_manager.FontProperties(family='Times New Roman', size=12)"
   ]
  },
  {
   "cell_type": "code",
   "execution_count": null,
   "metadata": {},
   "outputs": [],
   "source": [
    "count = 1\n",
    "plt.style.context('seaborn')\n",
    "plt.figure(figsize=(20,15))\n",
    "for c in df_copy.columns:\n",
    "\n",
    "    plt.subplot(2, 2, count)\n",
    "    \n",
    "    plt.plot(results[c][0], \"g\", label = \"predicted\")\n",
    "    plt.plot(results[c][1], \"r\", label = \"real\")\n",
    "\n",
    "    plt.xlabel(\"Weeks\", **font, size = 16)\n",
    "    plt.ylabel(\"Standard Deviation\", **font, size = 16)\n",
    "    \n",
    "    plt.title(c, **font, size = 16)\n",
    "    plt.legend(prop = font1)\n",
    "    \n",
    "    plt.gca().set_yticklabels(['{:.0f}%'.format(x*100) for x in plt.gca().get_yticks()]) \n",
    "    count += 1\n",
    "    if count == 5:\n",
    "        break\n",
    "\n",
    "# plt.plot(results[\"Japan\"][0], \"g\", label = \"predicted\")\n",
    "# plt.plot(results[\"Japan\"][1], \"r\", label = \"real\")\n",
    "\n",
    "plt.savefig(\"NN_predictions.png\")  "
   ]
  },
  {
   "cell_type": "code",
   "execution_count": null,
   "metadata": {},
   "outputs": [],
   "source": []
  },
  {
   "cell_type": "code",
   "execution_count": null,
   "metadata": {},
   "outputs": [],
   "source": []
  }
 ],
 "metadata": {
  "kernelspec": {
   "display_name": "Python 3",
   "language": "python",
   "name": "python3"
  },
  "language_info": {
   "codemirror_mode": {
    "name": "ipython",
    "version": 3
   },
   "file_extension": ".py",
   "mimetype": "text/x-python",
   "name": "python",
   "nbconvert_exporter": "python",
   "pygments_lexer": "ipython3",
   "version": "3.5.0"
  }
 },
 "nbformat": 4,
 "nbformat_minor": 2
}
