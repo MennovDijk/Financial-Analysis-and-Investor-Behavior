{
 "cells": [
  {
   "cell_type": "code",
   "execution_count": null,
   "metadata": {},
   "outputs": [],
   "source": [
    "import numpy as np\n",
    "import matplotlib.pyplot as plt\n",
    "import matplotlib.patches as mpatch\n",
    "import matplotlib.font_manager as font_manager\n",
    "font1 = font_manager.FontProperties(family='Times New Roman', size=18)"
   ]
  },
  {
   "cell_type": "code",
   "execution_count": null,
   "metadata": {},
   "outputs": [],
   "source": [
    "W = 350000\n",
    "savings = 1500\n",
    "cost_college = 2083 + (1/3)\n",
    "cost_retirement = 3000\n",
    "\n",
    "mu_monthly = 0.003442027\n",
    "sigma_monthly = 0.018515243\n",
    "\n",
    "drift = mu_monthly - ((1/2) * (sigma_monthly**2))\n",
    "\n"
   ]
  },
  {
   "cell_type": "code",
   "execution_count": null,
   "metadata": {},
   "outputs": [],
   "source": [
    "font = {'fontname':'Times New Roman'}"
   ]
  },
  {
   "cell_type": "code",
   "execution_count": null,
   "metadata": {},
   "outputs": [],
   "source": [
    "def uniqueish_color():\n",
    "    \"\"\"There're better ways to generate unique colors, but this isn't awful.\"\"\"\n",
    "    return plt.cm.gist_ncar(np.random.random())"
   ]
  },
  {
   "cell_type": "code",
   "execution_count": null,
   "metadata": {
    "scrolled": false
   },
   "outputs": [],
   "source": [
    "plt.figure(figsize=(20,15))\n",
    "zero_val = 0\n",
    "pos_val = 0\n",
    "final_vals = []\n",
    "for k in range(0,10000):\n",
    "    portfolio_value = [W] \n",
    "    for t in range(1,601):\n",
    "        \n",
    "        vol = sigma_monthly * np.random.normal()\n",
    "        shock = drift + vol\n",
    "        \n",
    "        if (t <= 72) or ((t >= 193) and (t <= 240)):\n",
    "            if portfolio_value[t-1] > 0:\n",
    "                portfolio_value.append(portfolio_value[t-1] * np.exp(shock) + savings)\n",
    "            else:\n",
    "                 portfolio_value.append(0)\n",
    "            \n",
    "        elif (t >= 73) and (t <= 192):\n",
    "            if portfolio_value[t-1] > 0:\n",
    "                portfolio_value.append(portfolio_value[t-1] * np.exp(shock) + savings - cost_college)\n",
    "            else:\n",
    "                 portfolio_value.append(0)\n",
    "            \n",
    "        elif (t >= 241) and (t<=601):\n",
    "            if portfolio_value[t-1] > 0:\n",
    "                portfolio_value.append(portfolio_value[t-1] * np.exp(shock) - cost_retirement)\n",
    "            else:\n",
    "                 portfolio_value.append(0)\n",
    "                    \n",
    "    if portfolio_value[-1] == 0:\n",
    "        zero_val += 1\n",
    "    if portfolio_value[-1] != 0:\n",
    "        pos_val += 1\n",
    "        \n",
    "    final_vals.append(portfolio_value[-1])\n",
    "    plt.plot(portfolio_value, color = uniqueish_color())\n",
    "        \n",
    "patch_sigma = mpatch.Patch(color='r', label='Standard Deviation (monthly) = ' + str((round(sigma_monthly*100,2)))+\"%\")\n",
    "patch_expected_return = mpatch.Patch(color='g', label='Expected Return (monthly) = ' + str(round(mu_monthly*100,2))+ \"%\")\n",
    "\n",
    "plt.xlabel(\"Number of Periods\", **font, size = 26)\n",
    "plt.ylabel(\"Portfolio Value\", **font, size = 26)\n",
    "\n",
    "plt.legend(handles = [patch_expected_return, patch_sigma], prop = font1)\n",
    "plt.title(\"Monte Carlo Simulations Client\", **font, size = 30)\n",
    "\n",
    "\n",
    "plt.gca().set_yticklabels(['{0:,}$'.format(int(x)) for x in plt.gca().get_yticks()]) \n",
    "plt.savefig(\"10kMC.png\")       "
   ]
  },
  {
   "cell_type": "code",
   "execution_count": null,
   "metadata": {},
   "outputs": [],
   "source": [
    "print(pos_val / 10000)\n",
    "print((1- (pos_val/10000)))"
   ]
  },
  {
   "cell_type": "code",
   "execution_count": null,
   "metadata": {},
   "outputs": [],
   "source": [
    "[0, 0.1] + [x for x in range(100000,2000000) if x % 100000 == 0]"
   ]
  },
  {
   "cell_type": "code",
   "execution_count": null,
   "metadata": {},
   "outputs": [],
   "source": [
    "plt.figure(figsize=(20,15))\n",
    "plt.hist(final_vals, \n",
    "         bins = 'fd', \n",
    "         alpha = 0.5, \n",
    "         ec = \"black\", \n",
    "         rwidth = 1000)\n",
    "\n",
    "plt.xlabel(\"Portfolio Value\", **font, size = 26)\n",
    "plt.ylabel(\"Frequency\", **font, size = 26)\n",
    "\n",
    "plt.title(\"Histogram of Portfolio Values at Death\", **font, size = 30)\n",
    "plt.savefig(\"histMC.png\") "
   ]
  },
  {
   "cell_type": "code",
   "execution_count": null,
   "metadata": {},
   "outputs": [],
   "source": []
  }
 ],
 "metadata": {
  "kernelspec": {
   "display_name": "Python 3",
   "language": "python",
   "name": "python3"
  },
  "language_info": {
   "codemirror_mode": {
    "name": "ipython",
    "version": 3
   },
   "file_extension": ".py",
   "mimetype": "text/x-python",
   "name": "python",
   "nbconvert_exporter": "python",
   "pygments_lexer": "ipython3",
   "version": "3.5.0"
  }
 },
 "nbformat": 4,
 "nbformat_minor": 2
}
