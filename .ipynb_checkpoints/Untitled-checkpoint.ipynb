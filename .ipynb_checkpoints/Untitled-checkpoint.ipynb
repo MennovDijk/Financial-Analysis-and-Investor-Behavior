{
 "cells": [
  {
   "cell_type": "code",
   "execution_count": 34,
   "metadata": {},
   "outputs": [],
   "source": [
    "from keras.optimizers import SGD, RMSprop, Adam\n",
    "from keras.models import Sequential\n",
    "from keras.layers import Dense, Activation, Dropout\n",
    "from keras.utils import plot_model\n",
    "from sklearn.metrics import mean_squared_error, mean_absolute_error\n",
    "from keras import backend as K\n",
    "import pandas as pd\n",
    "import numpy as np\n",
    "from sklearn.linear_model import LinearRegression\n",
    "import statsmodels.api as sm\n",
    "import matplotlib.pyplot as plt\n",
    "import os\n",
    "os.environ[\"PATH\"] += os.pathsep + 'C:/Program Files (x86)/Graphviz2.38/bin/'"
   ]
  },
  {
   "cell_type": "code",
   "execution_count": 35,
   "metadata": {},
   "outputs": [],
   "source": [
    "def root_mean_squared_error(y_true, y_pred):\n",
    "        return K.sqrt(K.mean(K.square(y_pred - y_true), axis=-1)) "
   ]
  },
  {
   "cell_type": "code",
   "execution_count": 55,
   "metadata": {},
   "outputs": [],
   "source": [
    "df = pd.read_excel(\"returns.xlsx\")\n",
    "df = df.iloc[:-3]\n",
    "df_copy = df.copy()\n",
    "\n",
    "for c in df.columns:\n",
    "    df[\"volatility_\"+c] = (df[c].rolling(20).std())*np.sqrt(52)"
   ]
  },
  {
   "cell_type": "code",
   "execution_count": 39,
   "metadata": {},
   "outputs": [],
   "source": [
    "df_train = df[20:167]\n",
    "df_test = df[197:]"
   ]
  },
  {
   "cell_type": "code",
   "execution_count": 40,
   "metadata": {},
   "outputs": [
    {
     "name": "stdout",
     "output_type": "stream",
     "text": [
      "(146,)\n",
      "(146, 20)\n",
      "\n",
      "(60, 20)\n",
      "(60,)\n"
     ]
    }
   ],
   "source": [
    "for c in df_copy.columns:\n",
    "    train_y = df_train[\"volatility_\"+c].shift(1)[1:].values\n",
    "    test_y =  df_test[\"volatility_\"].shift(1)[1:].values\n",
    "\n",
    "\n",
    "    train_X = df_train.iloc[:,19:].shift(-1)[:-1]\n",
    "    train_X[\"ALL\"] = df_train[\"ALL\"].shift(-1)[:-1]\n",
    "\n",
    "    test_X =  df_test.iloc[:,19:].shift(-1)[:-1]\n",
    "    test_X[\"ALL\"] = df_test[\"ALL\"].shift(-1)[:-1]\n",
    "\n",
    "    train_X = train_X.values\n",
    "    test_X = test_X.values\n"
   ]
  },
  {
   "cell_type": "code",
   "execution_count": 42,
   "metadata": {},
   "outputs": [
    {
     "name": "stdout",
     "output_type": "stream",
     "text": [
      "Epoch 1/10\n",
      "146/146 [==============================] - 1s 5ms/step - loss: 0.0155\n",
      "Epoch 2/10\n",
      "146/146 [==============================] - 0s 3ms/step - loss: 0.0130\n",
      "Epoch 3/10\n",
      "146/146 [==============================] - 0s 3ms/step - loss: 0.0130\n",
      "Epoch 4/10\n",
      "146/146 [==============================] - 0s 3ms/step - loss: 0.0111\n",
      "Epoch 5/10\n",
      "146/146 [==============================] - 0s 3ms/step - loss: 0.0102\n",
      "Epoch 6/10\n",
      "146/146 [==============================] - 0s 3ms/step - loss: 0.0136\n",
      "Epoch 7/10\n",
      "146/146 [==============================] - 0s 3ms/step - loss: 0.0100\n",
      "Epoch 8/10\n",
      "146/146 [==============================] - 0s 3ms/step - loss: 0.0090\n",
      "Epoch 9/10\n",
      "146/146 [==============================] - 1s 4ms/step - loss: 0.0095\n",
      "Epoch 10/10\n",
      "146/146 [==============================] - 0s 3ms/step - loss: 0.0097\n"
     ]
    },
    {
     "data": {
      "text/plain": [
       "<keras.callbacks.History at 0x2c371750cc0>"
      ]
     },
     "execution_count": 42,
     "metadata": {},
     "output_type": "execute_result"
    }
   ],
   "source": [
    "model = Sequential()\n",
    "\n",
    "model.add(Dense(20)) \n",
    "model.add(Activation(\"relu\"))\n",
    "\n",
    "model.add(Dense(40)) \n",
    "model.add(Activation(\"relu\"))\n",
    "\n",
    "model.add(Dense(10))\n",
    "model.add(Dense(1))\n",
    "\n",
    "model.add(Activation('linear'))\n",
    "plot_model(model, to_file='model2_plot.png', show_shapes=True, show_layer_names=True)\n",
    "# Compile and Run\n",
    "model.compile(loss= root_mean_squared_error, optimizer = Adam()) # Try SGD, adam, adagrad and compare!!!\n",
    "model.fit(train_X, train_y, epochs = 10, batch_size = 1, verbose=1)\n",
    "\n"
   ]
  },
  {
   "cell_type": "code",
   "execution_count": 49,
   "metadata": {},
   "outputs": [
    {
     "name": "stdout",
     "output_type": "stream",
     "text": [
      "0.006910393470059421\n"
     ]
    }
   ],
   "source": [
    "yhat = model.predict(test_X)\n",
    "print(mean_absolute_error(yhat, test_y))"
   ]
  },
  {
   "cell_type": "code",
   "execution_count": 50,
   "metadata": {},
   "outputs": [
    {
     "name": "stdout",
     "output_type": "stream",
     "text": [
      "[0.05263435 0.05416942 0.05442233 0.05303212 0.05539724 0.05548135\n",
      " 0.05404751 0.05392038 0.05476652 0.05769746 0.05925778 0.0626543\n",
      " 0.11006207 0.10933885 0.1085355  0.10837743 0.10849048 0.10854984\n",
      " 0.11050827 0.12045955 0.11841585 0.11740755 0.12090728 0.12649155\n",
      " 0.12486251 0.12741964 0.12778712 0.12668969 0.12439183 0.12450035\n",
      " 0.12179099 0.12209502 0.09536005 0.09538403 0.09886956 0.1005012\n",
      " 0.10127529 0.1010618  0.09941846 0.09516479 0.09899332 0.1005721\n",
      " 0.10117013 0.09353298 0.09474388 0.09199069 0.09186074 0.1168855\n",
      " 0.11572286 0.13550576 0.13911803 0.14834123 0.15431588 0.15568091\n",
      " 0.15786554 0.15673955 0.15678912 0.16826132 0.16851786 0.17071155]\n"
     ]
    }
   ],
   "source": [
    "print(test_y)"
   ]
  },
  {
   "cell_type": "code",
   "execution_count": 54,
   "metadata": {},
   "outputs": [
    {
     "data": {
      "text/plain": [
       "array([[0.05837637],\n",
       "       [0.06080498],\n",
       "       [0.06178971],\n",
       "       [0.06237784],\n",
       "       [0.06033043],\n",
       "       [0.05932914],\n",
       "       [0.06020943],\n",
       "       [0.06131025],\n",
       "       [0.06341402],\n",
       "       [0.06531748],\n",
       "       [0.06969806],\n",
       "       [0.11655169],\n",
       "       [0.1144476 ],\n",
       "       [0.11377405],\n",
       "       [0.11359308],\n",
       "       [0.11344045],\n",
       "       [0.11345747],\n",
       "       [0.11405737],\n",
       "       [0.12170143],\n",
       "       [0.12162342],\n",
       "       [0.12221753],\n",
       "       [0.12517932],\n",
       "       [0.12750944],\n",
       "       [0.12803936],\n",
       "       [0.13126957],\n",
       "       [0.13096651],\n",
       "       [0.12929153],\n",
       "       [0.12684584],\n",
       "       [0.12892422],\n",
       "       [0.12558454],\n",
       "       [0.12656689],\n",
       "       [0.09773458],\n",
       "       [0.09880386],\n",
       "       [0.10294666],\n",
       "       [0.10324782],\n",
       "       [0.10387909],\n",
       "       [0.10369433],\n",
       "       [0.10351709],\n",
       "       [0.10227813],\n",
       "       [0.10965171],\n",
       "       [0.10922549],\n",
       "       [0.10804892],\n",
       "       [0.10156795],\n",
       "       [0.10179441],\n",
       "       [0.09966279],\n",
       "       [0.09971511],\n",
       "       [0.12106188],\n",
       "       [0.1217835 ],\n",
       "       [0.1323955 ],\n",
       "       [0.1392538 ],\n",
       "       [0.14689413],\n",
       "       [0.14824256],\n",
       "       [0.15012762],\n",
       "       [0.15314072],\n",
       "       [0.15203556],\n",
       "       [0.15201235],\n",
       "       [0.15947798],\n",
       "       [0.1626254 ],\n",
       "       [0.16453543],\n",
       "       [0.17346025]], dtype=float32)"
      ]
     },
     "execution_count": 54,
     "metadata": {},
     "output_type": "execute_result"
    }
   ],
   "source": [
    "yhat"
   ]
  },
  {
   "cell_type": "code",
   "execution_count": 52,
   "metadata": {},
   "outputs": [
    {
     "data": {
      "image/png": "[encoded data removed]",
      "text/plain": [
       "<matplotlib.figure.Figure at 0x2c3786216a0>"
      ]
     },
     "metadata": {},
     "output_type": "display_data"
    }
   ],
   "source": [
    "plt.plot(yhat[40:50], \"g\", label = \"predicted\")\n",
    "plt.plot(test_y[40:50], \"r\", label = \"real\")\n",
    "plt.legend()\n",
    "plt.show()"
   ]
  },
  {
   "cell_type": "code",
   "execution_count": null,
   "metadata": {},
   "outputs": [],
   "source": []
  }
 ],
 "metadata": {
  "kernelspec": {
   "display_name": "Python 3",
   "language": "python",
   "name": "python3"
  },
  "language_info": {
   "codemirror_mode": {
    "name": "ipython",
    "version": 3
   },
   "file_extension": ".py",
   "mimetype": "text/x-python",
   "name": "python",
   "nbconvert_exporter": "python",
   "pygments_lexer": "ipython3",
   "version": "3.5.0"
  }
 },
 "nbformat": 4,
 "nbformat_minor": 2
}
